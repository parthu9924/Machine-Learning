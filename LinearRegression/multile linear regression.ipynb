{
 "cells": [
  {
   "cell_type": "code",
   "execution_count": 12,
   "metadata": {},
   "outputs": [],
   "source": [
    "import numpy as np\n",
    "import matplotlib.pyplot as plt\n",
    "from mpl_toolkits.mplot3d import Axes3D "
   ]
  },
  {
   "cell_type": "code",
   "execution_count": 43,
   "metadata": {},
   "outputs": [],
   "source": [
    "class LinearRegression:\n",
    "    \n",
    "        \n",
    "    def make_array(self,x1,y1,b):\n",
    "        \n",
    "        x1=x1.to_numpy()\n",
    "        y1=y1.to_numpy()\n",
    "        b=np.empty([x.shape[1],1])\n",
    "        b.fill(0)\n",
    "        y1=y1.reshape((x1.shape[0],1))\n",
    "        t=np.empty([x1.shape[0],1])\n",
    "        t.fill(1)\n",
    "        x1=np.append(t,x1,axis=1)\n",
    "        return x1,y1,b\n",
    "    \n",
    "    def fit(self,x1,y1):\n",
    "        b=np.array([])\n",
    "        self.x,self.y,self.b=self.make_array(x1,y1,b)\n",
    "        self.update_theta()\n",
    "        \n",
    "    def make_array1(self,x1):\n",
    "        x1=x1.to_numpy()\n",
    "        t=np.empty([x1.shape[0],1])\n",
    "        t.fill(1)\n",
    "        x1=np.append(t,x1,axis=1)\n",
    "        return x1\n",
    "    \n",
    "    def update_theta(self):\n",
    "        \n",
    "        x=self.x\n",
    "        y=self.y\n",
    "        xT=np.transpose(x)\n",
    "        temp=xT.dot(x)\n",
    "        tempinv=np.linalg.inv(temp)\n",
    "        temp1=tempinv.dot(xT)\n",
    "        self.b=temp1.dot(y)\n",
    "        \n",
    "    def predict(self,x1):\n",
    "        \n",
    "        x=self.make_array1(x1)\n",
    "        b=self.b\n",
    "        y_pred=x.dot(b)\n",
    "        return y_pred\n",
    "    \n",
    "    def make_array2(self,y):\n",
    "        y=y.to_numpy()\n",
    "        y=y.reshape((y.shape[0],1))\n",
    "        return y;\n",
    "    \n",
    "    def get_cost(self,y,y_pred):\n",
    "        \n",
    "        y=self.make_array2(y)\n",
    "        l=len(y)\n",
    "        j=(1/l)*(np.sum((y-y_pred)**2))\n",
    "        return j\n",
    "        "
   ]
  },
  {
   "cell_type": "code",
   "execution_count": 22,
   "metadata": {},
   "outputs": [],
   "source": [
    "from sklearn.datasets import load_boston\n",
    "import pandas as pd\n",
    "boston=load_boston()\n",
    "data=pd.DataFrame(data=boston.data)\n",
    "data.columns=boston.feature_names\n",
    "data['price']=boston.target\n",
    "y=data[\"price\"]\n",
    "l=[\"LSTAT\",\"PTRATIO\"]\n",
    "x=data[l]"
   ]
  },
  {
   "cell_type": "code",
   "execution_count": 23,
   "metadata": {},
   "outputs": [],
   "source": [
    "from sklearn.model_selection import train_test_split\n",
    "x_train,x_test,y_train,y_test=train_test_split(x,y,test_size=0.2,random_state=0)"
   ]
  },
  {
   "cell_type": "code",
   "execution_count": 44,
   "metadata": {},
   "outputs": [
    {
     "name": "stdout",
     "output_type": "stream",
     "text": [
      "102\n",
      "51.48347245085462\n"
     ]
    }
   ],
   "source": [
    "def main():\n",
    "    \n",
    "    l=LinearRegression()\n",
    "    l.fit(x_train,y_train)\n",
    "    y_predict=l.predict(x_test)\n",
    "    print(y_test.shape[0])\n",
    "    print(l.get_cost(y_test,y_predict))\n",
    "\n",
    "if __name__=='__main__':\n",
    "    main()"
   ]
  },
  {
   "cell_type": "code",
   "execution_count": null,
   "metadata": {},
   "outputs": [],
   "source": []
  }
 ],
 "metadata": {
  "kernelspec": {
   "display_name": "Python 3",
   "language": "python",
   "name": "python3"
  },
  "language_info": {
   "codemirror_mode": {
    "name": "ipython",
    "version": 3
   },
   "file_extension": ".py",
   "mimetype": "text/x-python",
   "name": "python",
   "nbconvert_exporter": "python",
   "pygments_lexer": "ipython3",
   "version": "3.7.6"
  }
 },
 "nbformat": 4,
 "nbformat_minor": 4
}
